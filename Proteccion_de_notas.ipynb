{
  "cells": [
    {
      "cell_type": "markdown",
      "metadata": {
        "id": "view-in-github",
        "colab_type": "text"
      },
      "source": [
        "<a href=\"https://colab.research.google.com/github/AndressBasss/ProyectoEncriptacion/blob/main/Proteccion_de_notas.ipynb\" target=\"_parent\"><img src=\"https://colab.research.google.com/assets/colab-badge.svg\" alt=\"Open In Colab\"/></a>"
      ]
    },
    {
      "cell_type": "code",
      "execution_count": 1,
      "metadata": {
        "id": "jQL9tqlP_l9E"
      },
      "outputs": [],
      "source": [
        "abecedario = ['a','b','c','d','e','f','g','h','i','j','k','l','m','n','o','p','q','r','s','t','u', 'v','w','x','y','z']\n",
        "reemplazo = ['nueve','dos','cuatro','doce','siete','tres','uno','veintidos','veintiseis','cinco', 'veintiuno','diez', 'trece','cuarentaycinco', 'diecinueve', 'quince','veintisiete','veintinueve', 'dieciocho','veinticuatro','catorce', 'veinte','ocho', 'sientocincuentamil', 'catorcemil', 'cien', 'cientouno', 'cientonoventaynueve', 'quincemildos','treinta', 'sesenta', 'noventa', 'doscientostres', 'cuatrocientoscinco', 'docemildoscientostres', 'catorcemillones']\n",
        "numeros = ['9','2','4','12','7','3','1','22','26','5','21','10','13','45','19','15','27','29','18','24','14','20','8','150000','14000','100','101','199','15002','30','70','90','203','405','12203','14000000']\n"
      ]
    },
    {
      "cell_type": "code",
      "execution_count": null,
      "metadata": {
        "id": "NNfNmHycDXdr"
      },
      "outputs": [],
      "source": [
        ""
      ]
    },
    {
      "cell_type": "code",
      "execution_count": null,
      "metadata": {
        "id": "YgwDROyDFHPd"
      },
      "outputs": [],
      "source": [
        "def encontrarremplazo(letra):\n",
        "  for j in abecedario:\n",
        "     \n",
        "     if j == letra:\n",
        "       \n",
        "       posicion = abecedario.index(j)\n",
        "       return reemplazo[posicion]\n",
        "  return \"unoazultres\"\n",
        "        "
      ]
    },
    {
      "cell_type": "code",
      "execution_count": null,
      "metadata": {
        "id": "AyC4WWzbSOJm"
      },
      "outputs": [],
      "source": [
        "def encriptar(nota):\n",
        "  encriptado = ''\n",
        "  for i in nota:\n",
        "    \n",
        "    encriptado = encriptado + encontrarremplazo(i) + ' '\n",
        "  \n",
        "  largo = len(nota)\n",
        "\n",
        "  \n",
        "  \n",
        "  return encriptado"
      ]
    },
    {
      "cell_type": "code",
      "execution_count": null,
      "metadata": {
        "id": "UJeZ3VyWU3D-"
      },
      "outputs": [],
      "source": [
        "def desencriptar(encriptado):\n",
        "  desencriptado = ''\n",
        "  lista =encriptado.split()\n",
        "  print(lista)\n",
        "  for i in lista:\n",
        "    for j in reemplazo:\n",
        "      if(i == j):\n",
        "        posicion = reemplazo.index(j)\n",
        "        desencriptado = desencriptado + abecedario[posicion]\n",
        "    desencriptado = desencriptado + ' '\n",
        "  return desencriptado\n",
        "\n",
        "\n",
        "\n",
        "      \n",
        "\n",
        "\n"
      ]
    },
    {
      "cell_type": "code",
      "execution_count": null,
      "metadata": {
        "colab": {
          "base_uri": "https://localhost:8080/"
        },
        "id": "SfEynYcKTDc_",
        "outputId": "89f39c9c-aa43-41f1-d0ef-5d2433438fad"
      },
      "outputs": [
        {
          "output_type": "stream",
          "name": "stdout",
          "text": [
            "Ingrese la nota a encriptar\n",
            "hgfhdf try t\n",
            "veintidos uno tres veintidos doce tres unoazultres veinticuatro veintinueve catorcemil unoazultres veinticuatro \n",
            "El mensaje desencriptado es\n",
            "['veintidos', 'uno', 'tres', 'veintidos', 'doce', 'tres', 'unoazultres', 'veinticuatro', 'veintinueve', 'catorcemil', 'unoazultres', 'veinticuatro']\n",
            "h g f h d f  t r y  t \n"
          ]
        }
      ],
      "source": [
        "print(\"Ingrese la nota a encriptar\")\n",
        "nota = input()\n",
        "encriptado = encriptar(nota)\n",
        "print(encriptar(nota))\n",
        "print(\"El mensaje desencriptado es\")\n",
        "\n",
        "print(desencriptar(encriptado))\n"
      ]
    }
  ],
  "metadata": {
    "colab": {
      "collapsed_sections": [],
      "name": "Proteccion de notas.ipynb",
      "provenance": [],
      "include_colab_link": true
    },
    "kernelspec": {
      "display_name": "Python 3",
      "name": "python3"
    },
    "language_info": {
      "name": "python"
    }
  },
  "nbformat": 4,
  "nbformat_minor": 0
}