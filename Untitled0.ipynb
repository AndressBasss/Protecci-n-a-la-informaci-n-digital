{
  "cells": [
    {
      "cell_type": "markdown",
      "metadata": {
        "id": "view-in-github",
        "colab_type": "text"
      },
      "source": [
        "<a href=\"https://colab.research.google.com/github/AndressBasss/ProyectoEncriptacion/blob/main/Untitled0.ipynb\" target=\"_parent\"><img src=\"https://colab.research.google.com/assets/colab-badge.svg\" alt=\"Open In Colab\"/></a>"
      ]
    },
    {
      "cell_type": "code",
      "execution_count": null,
      "metadata": {
        "id": "jQL9tqlP_l9E"
      },
      "outputs": [],
      "source": [
        "abecedario = ['a','b','c','d','e','f','g','h','i','j','k','l','m','n','o','p','q','r','s','t','u', 'v','w','x','y','z']\n",
        "reemplazo = ['nueve','dos','cuatro','doce','siete','tres','uno','veintidos','veintiseis','cinco', 'veintiuno','diez', 'trece','cuarentaycinco', 'diecinueve', 'quince','veintisiete','veintinueve', 'dieciocho','veinticuatro','catorce', 'veinte','ocho', 'sientocincuentamil', 'catorcemil', 'cien', 'cientouno', 'cientonoventaynueve', 'quincemildos','treinta', 'sesenta', 'noventa', 'doscientostres', 'cuatrocientoscinco', 'docemildoscientostres', 'catorcemillones']\n"
      ]
    },
    {
      "cell_type": "code",
      "execution_count": null,
      "metadata": {
        "id": "NNfNmHycDXdr"
      },
      "outputs": [],
      "source": [
        ""
      ]
    },
    {
      "cell_type": "code",
      "execution_count": null,
      "metadata": {
        "id": "YgwDROyDFHPd"
      },
      "outputs": [],
      "source": [
        "def encontrarremplazo(letra):\n",
        "  for j in abecedario:\n",
        "     \n",
        "     if j == letra:\n",
        "       \n",
        "       posicion = abecedario.index(j)\n",
        "       return reemplazo[posicion]\n",
        "  return \"unoazultres\"\n",
        "        "
      ]
    },
    {
      "cell_type": "code",
      "execution_count": null,
      "metadata": {
        "id": "AyC4WWzbSOJm"
      },
      "outputs": [],
      "source": [
        "def encriptar(nota):\n",
        "  encriptado = ''\n",
        "  for i in nota:\n",
        "    \n",
        "    encriptado = encriptado + encontrarremplazo(i) + ' '\n",
        "  \n",
        "  largo = len(nota)\n",
        "\n",
        "  \n",
        "  \n",
        "  return encriptado"
      ]
    },
    {
      "cell_type": "code",
      "execution_count": null,
      "metadata": {
        "id": "UJeZ3VyWU3D-"
      },
      "outputs": [],
      "source": [
        "def desencriptar(encriptado):\n",
        "  desencriptado = ' '\n",
        "  lista =encriptado.split()\n",
        "  \n",
        "  for i in lista:\n",
        "    for j in reemplazo:\n",
        "      if(i == j):\n",
        "        posicion = reemplazo.index(j)\n",
        "        desencriptado = desencriptado + abecedario[posicion]\n",
        "    desencriptado = desencriptado + ' '\n",
        "  return desencriptado\n",
        "\n",
        "\n",
        "\n",
        "      \n",
        "\n",
        "\n"
      ]
    },
    {
      "cell_type": "code",
      "execution_count": null,
      "metadata": {
        "colab": {
          "base_uri": "https://localhost:8080/"
        },
        "id": "SfEynYcKTDc_",
        "outputId": "22e7b501-7909-4315-afa9-54de0d555198"
      },
      "outputs": [
        {
          "output_type": "stream",
          "name": "stdout",
          "text": [
            "Ingrese la nota a encriptar\n",
            "gsdfg erg dfdf\n",
            "uno dieciocho doce tres uno unoazultres siete veintinueve uno unoazultres doce tres doce tres \n",
            "El mensaje desencriptado es\n",
            " g s d f g  e r g  d f d f \n"
          ]
        }
      ],
      "source": [
        "print(\"Ingrese la nota a encriptar\")\n",
        "nota = input()\n",
        "encriptado = encriptar(nota)\n",
        "print(encriptar(nota))\n",
        "print(\"El mensaje desencriptado es\")\n",
        "#print(encriptadop = encriptar(nota))\n",
        "print(desencriptar(encriptado))\n"
      ]
    }
  ],
  "metadata": {
    "colab": {
      "collapsed_sections": [],
      "name": "Untitled0.ipynb",
      "provenance": [],
      "include_colab_link": true
    },
    "kernelspec": {
      "display_name": "Python 3",
      "name": "python3"
    },
    "language_info": {
      "name": "python"
    }
  },
  "nbformat": 4,
  "nbformat_minor": 0
}